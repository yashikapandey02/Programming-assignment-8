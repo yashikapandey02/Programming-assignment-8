{
 "cells": [
  {
   "cell_type": "code",
   "execution_count": null,
   "id": "baaca68b",
   "metadata": {},
   "outputs": [],
   "source": [
    "1. Write a Python Program to Add Two Matrices?"
   ]
  },
  {
   "cell_type": "code",
   "execution_count": 3,
   "id": "c8919332",
   "metadata": {},
   "outputs": [
    {
     "name": "stdout",
     "output_type": "stream",
     "text": [
      "[10, 10, 10]\n",
      "[10, 10, 10]\n",
      "[10, 10, 10]\n"
     ]
    }
   ],
   "source": [
    "X = [[1,2,3],\n",
    "    [4 ,5,6],\n",
    "    [7 ,8,9]]\n",
    "\n",
    "Y = [[9,8,7],\n",
    "    [6,5,4],\n",
    "    [3,2,1]]\n",
    "\n",
    "result = [[X[i][j] + Y[i][j] \n",
    " for i in range(len(X[0]))] \n",
    " for j in range(len(X))]\n",
    "\n",
    "for r in result:\n",
    "    print(r)\n"
   ]
  },
  {
   "cell_type": "code",
   "execution_count": null,
   "id": "5bf6bc3f",
   "metadata": {},
   "outputs": [],
   "source": [
    "2. Write a Python Program to Multiply Two Matrices?"
   ]
  },
  {
   "cell_type": "code",
   "execution_count": 25,
   "id": "98ef570f",
   "metadata": {},
   "outputs": [
    {
     "name": "stdout",
     "output_type": "stream",
     "text": [
      "The multiplication result of matrix A and B is: \n",
      "[37, 43, 59]\n",
      "[34, 58, 62]\n",
      "[58, 92, 103]\n"
     ]
    }
   ],
   "source": [
    "A = [[5, 4, 3],  \n",
    "     [2, 4, 6],  \n",
    "     [4, 7, 9]]    \n",
    "B = [[3, 2, 4],  \n",
    "     [4, 3, 6],  \n",
    "     [2, 7, 5]]   \n",
    "# Define an empty matrix to store multiplication result  \n",
    "multiResult = [[0, 0, 0],    \n",
    "               [0, 0, 0],    \n",
    "               [0, 0, 0]]  \n",
    "\n",
    "for m in range(len(A)):    \n",
    "    for n in range(len(B[0])):    \n",
    "          for o in range(len(B)):    \n",
    "                multiResult[m][n] += A[m][o] * B[o][n] # Storing multiplication result in empty matrix  \n",
    "print(\"The multiplication result of matrix A and B is: \")  \n",
    "for res in multiResult:    \n",
    "    print(res)  "
   ]
  },
  {
   "cell_type": "code",
   "execution_count": null,
   "id": "42697d35",
   "metadata": {},
   "outputs": [],
   "source": [
    "3. Write a Python Program to Transpose a Matrix?"
   ]
  },
  {
   "cell_type": "code",
   "execution_count": 27,
   "id": "68575662",
   "metadata": {},
   "outputs": [
    {
     "name": "stdout",
     "output_type": "stream",
     "text": [
      "[10, 4, 5]\n",
      "[9, 8, 6]\n"
     ]
    }
   ],
   "source": [
    "X = [[10,9],\n",
    "    [4 ,8],\n",
    "    [5 ,6]]\n",
    "\n",
    "result = [[0,0,0],\n",
    "         [0,0,0]]\n",
    "\n",
    "for i in range(len(X)):\n",
    "    for j in range(len(X[0])):\n",
    "        result[j][i] = X[i][j]\n",
    "\n",
    "for r in result:\n",
    "    print(r)"
   ]
  },
  {
   "cell_type": "code",
   "execution_count": null,
   "id": "b315bb7c",
   "metadata": {},
   "outputs": [],
   "source": [
    "4. Write a Python Program to Sort Words in Alphabetic Order?"
   ]
  },
  {
   "cell_type": "code",
   "execution_count": 47,
   "id": "c99ddf40",
   "metadata": {},
   "outputs": [
    {
     "name": "stdout",
     "output_type": "stream",
     "text": [
      "brown dog fox jumps lazy over quick the the\n"
     ]
    }
   ],
   "source": [
    "def Func(S):\n",
    "    W = S.split(\" \")\n",
    "    S = sorted(W)\n",
    "#     print(S)\n",
    "    print(' '.join(S))\n",
    " \n",
    "# Driver code\n",
    "S = \"the quick brown fox jumps over the lazy dog\"\n",
    "Func(S)\n"
   ]
  },
  {
   "cell_type": "code",
   "execution_count": 41,
   "id": "fb407073",
   "metadata": {},
   "outputs": [
    {
     "data": {
      "text/plain": [
       "<function __main__.Func(S)>"
      ]
     },
     "execution_count": 41,
     "metadata": {},
     "output_type": "execute_result"
    }
   ],
   "source": []
  },
  {
   "cell_type": "code",
   "execution_count": null,
   "id": "15dd1135",
   "metadata": {},
   "outputs": [],
   "source": [
    "5. Write a Python Program to Remove Punctuation From a String?"
   ]
  },
  {
   "cell_type": "code",
   "execution_count": 48,
   "id": "f4e538e1",
   "metadata": {},
   "outputs": [
    {
     "name": "stdout",
     "output_type": "stream",
     "text": [
      "Hello world\n"
     ]
    }
   ],
   "source": [
    "import string\n",
    "str = \"Hello, world!\"\n",
    "punctuations =string.punctuation\n",
    "def remove_punctuation(char):\n",
    "    return char not in punctuations\n",
    "clean_text = ''.join(filter(remove_punctuation, str))\n",
    "\n",
    "print(clean_text) "
   ]
  },
  {
   "cell_type": "code",
   "execution_count": null,
   "id": "c6a2af22",
   "metadata": {},
   "outputs": [],
   "source": []
  }
 ],
 "metadata": {
  "kernelspec": {
   "display_name": "Python 3 (ipykernel)",
   "language": "python",
   "name": "python3"
  },
  "language_info": {
   "codemirror_mode": {
    "name": "ipython",
    "version": 3
   },
   "file_extension": ".py",
   "mimetype": "text/x-python",
   "name": "python",
   "nbconvert_exporter": "python",
   "pygments_lexer": "ipython3",
   "version": "3.9.7"
  }
 },
 "nbformat": 4,
 "nbformat_minor": 5
}
